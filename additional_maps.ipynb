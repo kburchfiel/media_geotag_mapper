{
 "cells": [
  {
   "cell_type": "markdown",
   "metadata": {},
   "source": [
    "## Additional maps\n",
    "A workspace that I use for creating maps beyond those in the tutorial (such as maps of specific travels). See media_geotag_mapper_tutorial_vX.ipynb (where x refers to the latest version of the code) for more documentation on these steps."
   ]
  },
  {
   "cell_type": "code",
   "execution_count": null,
   "metadata": {},
   "outputs": [],
   "source": [
    "import time\n",
    "start_time = time.time() # Allows the program's runtime to be measured\n",
    "import os\n",
    "import pandas as pd\n",
    "import datetime\n",
    "import matplotlib.pyplot as plt\n",
    "import IPython.display\n",
    "from IPython.display import display\n",
    "\n",
    "from media_geotag_functions_v2 import generate_media_list, \\\n",
    "    retrieve_pic_locations, retrieve_clip_locations, generate_loc_list, \\\n",
    "    map_media_locations, folder_list_to_map, flip_lon, create_map_screenshot, \\\n",
    "    calculate_distance_by_year, convert_png_to_smaller_jpg, \\\n",
    "    batch_create_map_screenshots, batch_convert_pngs_to_smaller_jpgs"
   ]
  },
  {
   "cell_type": "code",
   "execution_count": null,
   "metadata": {},
   "outputs": [],
   "source": [
    "folder_name = 'extra_files\\\\2023-09-10_slc_atl' # Includes both\n",
    "# folders and files\n",
    "file_name = '2023-09-10 SLC-ATL'\n",
    "\n",
    "top_folder_list = [\n",
    "r'C:\\Users\\kburc\\D2V1\\Vids Clips Pics\\2 Unsorted Clips\\34 Galaxy S21 Ultra\\Vol 14']\n",
    "start_modified_datetime = '2023-09-10 12:42:00'\n",
    "end_modified_datetime = '2023-09-10 17:05:00'"
   ]
  },
  {
   "cell_type": "code",
   "execution_count": null,
   "metadata": {},
   "outputs": [],
   "source": [
    "generate_new_lists = True\n",
    "if generate_new_lists == True:\n",
    "    df_media = generate_media_list(top_folder_list=top_folder_list,\n",
    "    folder_name = folder_name)\n",
    "    df_all_locations = generate_loc_list(df_media = df_media, \n",
    "    folder_name = folder_name)"
   ]
  },
  {
   "cell_type": "code",
   "execution_count": null,
   "metadata": {},
   "outputs": [],
   "source": [
    "df_media = pd.read_csv(f'{folder_name}_media_list.csv')"
   ]
  },
  {
   "cell_type": "code",
   "execution_count": null,
   "metadata": {},
   "outputs": [],
   "source": [
    "df_all_locations = pd.read_csv(f'{folder_name}_media_locations.csv')"
   ]
  },
  {
   "cell_type": "markdown",
   "metadata": {},
   "source": [
    "Trimming the list of geotags so that they fall within the range specified by start_modified_datetime and end-modified_datetime:"
   ]
  },
  {
   "cell_type": "code",
   "execution_count": null,
   "metadata": {},
   "outputs": [],
   "source": [
    "df_all_locations.query('modified_time >= @start_modified_datetime & modified_time <= @end_modified_datetime', inplace = True)"
   ]
  },
  {
   "cell_type": "code",
   "execution_count": null,
   "metadata": {},
   "outputs": [],
   "source": [
    "df_all_locations.sort_values('modified_time', inplace = True)"
   ]
  },
  {
   "cell_type": "code",
   "execution_count": null,
   "metadata": {},
   "outputs": [],
   "source": [
    "absolute_path_to_map_folder = \\\n",
    "r'C:\\Users\\kburc\\D1V1\\Documents\\!Dell64docs\\Programming\\py\\kjb3_programs\\media_geotag_mapper\\extra_maps'\n",
    "screenshot_save_path = 'extra_map_screenshots'"
   ]
  },
  {
   "cell_type": "code",
   "execution_count": null,
   "metadata": {},
   "outputs": [],
   "source": [
    "map = map_media_locations(df_all_locations, folder_path = 'extra_maps', tiles = 'Stamen Terrain',\n",
    "file_name = file_name, starting_location = [40, -100], zoom_start = 7, add_paths = True)"
   ]
  },
  {
   "cell_type": "code",
   "execution_count": null,
   "metadata": {},
   "outputs": [],
   "source": [
    "create_map_screenshot(absolute_path_to_map_folder = \n",
    "absolute_path_to_map_folder, map_name= file_name+'_locations.html', \n",
    "screenshot_save_path = screenshot_save_path)\n",
    "\n",
    "IPython.display.display(IPython.display.Image(\n",
    "    filename=screenshot_save_path+'\\\\'+file_name+'_locations.png'))\n",
    "# This code is based on DrMcCleod's response at:\n",
    "# https://stackoverflow.com/a/35061341/13097194"
   ]
  }
 ],
 "metadata": {
  "interpreter": {
   "hash": "373fc5a02dc1a4f4d7122438e12fcda035e925b32ee1fe85dbff58fb3bdd1371"
  },
  "kernelspec": {
   "display_name": "Python 3.10.4 ('ga15pyd')",
   "language": "python",
   "name": "python3"
  },
  "language_info": {
   "codemirror_mode": {
    "name": "ipython",
    "version": 3
   },
   "file_extension": ".py",
   "mimetype": "text/x-python",
   "name": "python",
   "nbconvert_exporter": "python",
   "pygments_lexer": "ipython3",
   "version": "3.10.9"
  },
  "orig_nbformat": 4
 },
 "nbformat": 4,
 "nbformat_minor": 2
}
