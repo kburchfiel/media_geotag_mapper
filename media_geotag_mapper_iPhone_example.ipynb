{
 "cells": [
  {
   "cell_type": "markdown",
   "metadata": {},
   "source": [
    "# Media GeoTag Mapper (MGTM): iPhone Media Example \n",
    "\n",
    "By Kenneth Burchfiel\n",
    "\n",
    "Released under the MIT license\n",
    "\n",
    "GitHub link: https://github.com/kburchfiel/media_geotag_mapper\n",
    "\n",
    "This notebook shows how to use the functions in media_mapper_functions.py to retrieve geographic coordinates from iPhone images and videos, then store them as interactive maps. **For further documentation on this code, please reference my main Media Geotag Mapper tutorial (media_geotag_mapper_tutorial_v10.ipynb).** The documentation and comments in this notebook will focus on how to get the code to work with iPhone media.\n",
    "\n",
    "In order to create maps showing the paths traveled between geotags, it's crucial to have your geotag data sorted in chronological order. I found that, for iPhone data, the timestamps stored within the 'alt_capture_time' column (created through the generate_loc_list function) best represented the actual time that pictures and video clips were taken. Therefore, this notebook sorts the geotag data by 'alt_capture_time' instead of 'modified_date' (which worked well for mapping Samsung media data). \n",
    "\n",
    "Since I don't own an iPhone, I tested out this notebook on iPhone image and video files that a friend had taken. To protect that friend's privacy, I won't be sharing the maps or other output files here, but those files are very similar to the ones found in the main tutorial notebook.\n"
   ]
  },
  {
   "cell_type": "code",
   "execution_count": 1,
   "metadata": {},
   "outputs": [],
   "source": [
    "import time\n",
    "start_time = time.time() # Allows the program's runtime to be measured\n",
    "import os\n",
    "import pandas as pd\n",
    "import datetime\n",
    "import matplotlib.pyplot as plt\n",
    "import IPython.display\n",
    "from IPython.display import display\n",
    "\n",
    "from media_geotag_functions_v2 import generate_media_list, \\\n",
    "    retrieve_pic_locations, retrieve_clip_locations, generate_loc_list, \\\n",
    "    map_media_locations, folder_list_to_map, flip_lon, create_map_screenshot, \\\n",
    "    calculate_distance_by_year, convert_png_to_smaller_jpg, \\\n",
    "    batch_create_map_screenshots, batch_convert_pngs_to_smaller_jpgs"
   ]
  },
  {
   "cell_type": "code",
   "execution_count": 2,
   "metadata": {},
   "outputs": [],
   "source": [
    "folder_name = 'combined'\n",
    "\n",
    "top_folder_list = ['temp_iphone_image_data']"
   ]
  },
  {
   "cell_type": "code",
   "execution_count": 3,
   "metadata": {},
   "outputs": [],
   "source": [
    "generate_new_lists = True"
   ]
  },
  {
   "cell_type": "code",
   "execution_count": 4,
   "metadata": {},
   "outputs": [],
   "source": [
    "if generate_new_lists == True:\n",
    "    df_media = generate_media_list(top_folder_list=top_folder_list,\n",
    "    folder_name = folder_name)"
   ]
  },
  {
   "cell_type": "code",
   "execution_count": 5,
   "metadata": {},
   "outputs": [
    {
     "name": "stdout",
     "output_type": "stream",
     "text": [
      "Retrieving picture locations:\n"
     ]
    },
    {
     "name": "stderr",
     "output_type": "stream",
     "text": [
      "100%|██████████| 2429/2429 [00:53<00:00, 45.66it/s] \n"
     ]
    },
    {
     "name": "stdout",
     "output_type": "stream",
     "text": [
      "Retrieving clip locations:\n"
     ]
    },
    {
     "name": "stderr",
     "output_type": "stream",
     "text": [
      "100%|██████████| 320/320 [00:53<00:00,  6.00it/s]\n"
     ]
    }
   ],
   "source": [
    "if generate_new_lists == True:\n",
    "    df_all_locations = generate_loc_list(df_media = df_media, \n",
    "    folder_name = folder_name)"
   ]
  },
  {
   "cell_type": "code",
   "execution_count": 6,
   "metadata": {},
   "outputs": [],
   "source": [
    "df_media = pd.read_csv(f'{folder_name}_media_list.csv')\n",
    "# df_media.head(5)"
   ]
  },
  {
   "cell_type": "markdown",
   "metadata": {},
   "source": [
    "I'll next create df_all_locations, a DataFrame containing all location data provided for the files in df_media. I'll limit the sample output of this notebook to geotags taken within Colorado."
   ]
  },
  {
   "cell_type": "code",
   "execution_count": 7,
   "metadata": {},
   "outputs": [],
   "source": [
    "df_all_locations = pd.read_csv(\n",
    "    f'{folder_name}_media_locations.csv').reset_index(drop=True)\n",
    "# df_all_locations"
   ]
  },
  {
   "cell_type": "code",
   "execution_count": 8,
   "metadata": {},
   "outputs": [],
   "source": [
    "if generate_new_lists == True:\n",
    "    df_all_locations = flip_lon(df_all_locations, lat_south_bound = 25,\n",
    "    lat_north_bound = 45, lon_west_bound = 70, lon_east_bound = 95)\n",
    "    df_all_locations.to_csv(f'{folder_name}_media_locations.csv', index = False)\n",
    "    df_all_locations = pd.read_csv(f'{folder_name}_media_locations.csv')"
   ]
  },
  {
   "cell_type": "code",
   "execution_count": 9,
   "metadata": {},
   "outputs": [],
   "source": [
    "# df_all_locations.query(\"lon > 70 & lon < 95 & lat > 25 & lat < 45\") \n",
    "# Confirms that I flipped all longitude coordinates within this frame\n",
    "# back to their correct value"
   ]
  },
  {
   "cell_type": "markdown",
   "metadata": {},
   "source": [
    "The following code modifies df_all_locations to filter out media whose EXIF data or metadata didn't have an alt_capture_time value. It also sorts df_all_locations by alt_capture times and removes rows that lacked geotag data. These steps are taken to prepare the dataset for mapping tasks."
   ]
  },
  {
   "cell_type": "code",
   "execution_count": 10,
   "metadata": {},
   "outputs": [],
   "source": [
    "df_all_locations = df_all_locations.query(\"lat != 0 & lon != 0 & alt_capture_time != 'x'\").sort_values('alt_capture_time')\n",
    "\n",
    "df_all_locations.to_csv('df_all_locations.csv', index = False)"
   ]
  },
  {
   "cell_type": "code",
   "execution_count": 11,
   "metadata": {},
   "outputs": [],
   "source": [
    "absolute_path_to_map_folder = \\\n",
    "r'D:\\iPhone_media_geotag_tests\\maps'\n",
    "screenshot_save_path = 'map_screenshots'"
   ]
  },
  {
   "cell_type": "code",
   "execution_count": 12,
   "metadata": {},
   "outputs": [],
   "source": [
    "# df_all_locations"
   ]
  },
  {
   "cell_type": "markdown",
   "metadata": {},
   "source": [
    "The map_media_locations function calls pass 'alt_capture_time' as the timestam_column argument, since this column better represented the actual time that iPhone photos and clips were taken."
   ]
  },
  {
   "cell_type": "code",
   "execution_count": 13,
   "metadata": {},
   "outputs": [
    {
     "name": "stdout",
     "output_type": "stream",
     "text": [
      "Added 747 markers to the map.\n"
     ]
    }
   ],
   "source": [
    "combined_map = map_media_locations(df_all_locations, folder_path = 'maps', \n",
    "timestamp_column = 'alt_capture_time',\n",
    "file_name = 'combined', zoom_start = 6)"
   ]
  },
  {
   "cell_type": "code",
   "execution_count": 14,
   "metadata": {},
   "outputs": [],
   "source": [
    "create_map_screenshot(absolute_path_to_map_folder = \n",
    "absolute_path_to_map_folder, map_name= 'combined_locations.html', \n",
    "screenshot_save_path = screenshot_save_path)\n",
    "\n",
    "convert_png_to_smaller_jpg(png_folder = 'map_screenshots', \n",
    "png_image_name = 'combined_locations.png', jpg_folder = 'smaller_screenshots', \n",
    "reduction_factor = 1, quality_factor = 50)\n",
    "\n",
    "# IPython.display.display(IPython.display.Image(\n",
    "#     filename='smaller_screenshots/'+'combined_locations.jpg'))"
   ]
  },
  {
   "cell_type": "code",
   "execution_count": 15,
   "metadata": {},
   "outputs": [
    {
     "name": "stdout",
     "output_type": "stream",
     "text": [
      "Added 747 markers to the map.\n",
      "Done\n"
     ]
    }
   ],
   "source": [
    "map_media_locations(df_all_locations, folder_path = 'maps', \n",
    "file_name = 'combined_routes', timestamp_column = 'alt_capture_time', \n",
    "add_paths = True, zoom_start = 6)\n",
    "print(\"Done\")"
   ]
  },
  {
   "cell_type": "code",
   "execution_count": 16,
   "metadata": {},
   "outputs": [],
   "source": [
    "create_map_screenshot(absolute_path_to_map_folder = absolute_path_to_map_folder,\n",
    "map_name= 'combined_routes_locations.html', \n",
    "screenshot_save_path = screenshot_save_path)\n",
    "\n",
    "convert_png_to_smaller_jpg(png_folder = 'map_screenshots', \n",
    "png_image_name = 'combined_routes_locations.png', \n",
    "jpg_folder = 'smaller_screenshots', reduction_factor = 1, quality_factor = 50)\n",
    "\n",
    "# IPython.display.display(IPython.display.Image(\n",
    "#     filename='smaller_screenshots/'+'combined_routes_locations.jpg'))"
   ]
  },
  {
   "cell_type": "code",
   "execution_count": 17,
   "metadata": {},
   "outputs": [],
   "source": [
    "create_map_screenshot(absolute_path_to_map_folder = absolute_path_to_map_folder,\n",
    "map_name= 'combined_routes_intl_locations.html', \n",
    "screenshot_save_path = screenshot_save_path)\n",
    "\n",
    "convert_png_to_smaller_jpg(png_folder = 'map_screenshots', \n",
    "png_image_name = 'combined_routes_intl_locations.png', \n",
    "jpg_folder = 'smaller_screenshots', reduction_factor = 1, quality_factor = 50)\n",
    "\n",
    "# IPython.display.display(IPython.display.Image(\n",
    "#     filename='smaller_screenshots/'+'combined_routes_intl_locations.jpg'))"
   ]
  },
  {
   "cell_type": "code",
   "execution_count": 18,
   "metadata": {},
   "outputs": [
    {
     "name": "stdout",
     "output_type": "stream",
     "text": [
      "Creating map for 2018:\n",
      "Added 41 markers to the map.\n",
      "Creating map for 2019:\n",
      "Added 0 markers to the map.\n",
      "Creating map for 2020:\n",
      "Added 1 markers to the map.\n",
      "Creating map for 2021:\n",
      "Added 25 markers to the map.\n",
      "Creating map for 2022:\n",
      "Added 680 markers to the map.\n"
     ]
    }
   ],
   "source": [
    "map_dict = {}\n",
    "for i in range(2018, datetime.date.today().year+1):\n",
    "    print(f\"Creating map for {i}:\")\n",
    "    year_as_string = str(i)\n",
    "    next_year = str(i+1)\n",
    "    map_dict[i] = map_media_locations(df_all_locations.query(\n",
    "        \"alt_capture_time >= @year_as_string & alt_capture_time < @next_year\"),\n",
    "        folder_path = 'maps', file_name = f'{i}_combined', \n",
    "        add_paths = True, zoom_start = 6, timestamp_column = 'alt_capture_time')"
   ]
  },
  {
   "cell_type": "code",
   "execution_count": 19,
   "metadata": {},
   "outputs": [],
   "source": [
    "batch_create_map_screenshots(absolute_path_to_map_folder = \n",
    "absolute_path_to_map_folder, screenshot_save_path = \n",
    "screenshot_save_path)"
   ]
  },
  {
   "cell_type": "code",
   "execution_count": 20,
   "metadata": {},
   "outputs": [],
   "source": [
    "batch_convert_pngs_to_smaller_jpgs(png_folder = 'map_screenshots', \n",
    "    jpg_folder = 'smaller_screenshots', reduction_factor = 1, \n",
    "    quality_factor = 50) "
   ]
  },
  {
   "cell_type": "code",
   "execution_count": 21,
   "metadata": {},
   "outputs": [],
   "source": [
    "for root, dirs, files in os.walk('smaller_screenshots'):\n",
    "    smaller_screenshot_list = files\n",
    "\n",
    "# smaller_screenshot_list"
   ]
  },
  {
   "cell_type": "code",
   "execution_count": 22,
   "metadata": {},
   "outputs": [],
   "source": [
    "# for map in smaller_screenshot_list:\n",
    "#     print(f'\\n\\n{map}:')\n",
    "#     IPython.display.display(IPython.display.Image(\n",
    "#         filename='smaller_screenshots/'+map))\n",
    "\n",
    "# # This method of displaying images within a loop comes from Stack Overflow\n",
    "# # user DrMcCleod at https://stackoverflow.com/a/35061341/13097194 .\n"
   ]
  },
  {
   "cell_type": "markdown",
   "metadata": {},
   "source": [
    "In order to get the calculate_distance_by_year column to work with this data, I converted the alt_capture_time columns to strings; created a new column (alt_capture_time_no_tz) that didn't contain any time zone offset data; and then converted the alt_capture_time_no_tz column data to DateTime values. There's probably a more elegant way to remove time zone data from these columns."
   ]
  },
  {
   "cell_type": "code",
   "execution_count": 23,
   "metadata": {},
   "outputs": [],
   "source": [
    "df_all_locations['alt_capture_time'] = df_all_locations[\n",
    "    'alt_capture_time'].astype('str')"
   ]
  },
  {
   "cell_type": "markdown",
   "metadata": {},
   "source": [
    "The following code initializes 'alt_capture_time_no_tz' by searching for a '-' in the [-6] position within each row's alt_capture_time value (which indicates the presence of time zone offset data). If that hyphen is found, then that row's alt_capture_time_no_tz value will equal the alt_capture_time value with the time zone offset data removed. If that hyphen isn't found, then the alt_capture_time_no_tz value will be the same as the alt_capture_time value."
   ]
  },
  {
   "cell_type": "code",
   "execution_count": 24,
   "metadata": {},
   "outputs": [],
   "source": [
    "df_all_locations['alt_capture_time_no_tz'] = df_all_locations[\n",
    "    'alt_capture_time'].astype('str').apply(\n",
    "        lambda x:x[:-6] if x[-6] == '-' else x )"
   ]
  },
  {
   "cell_type": "code",
   "execution_count": 25,
   "metadata": {},
   "outputs": [],
   "source": [
    "# df_all_locations"
   ]
  },
  {
   "cell_type": "code",
   "execution_count": 26,
   "metadata": {},
   "outputs": [],
   "source": [
    "df_all_locations['alt_capture_time_no_tz'] = pd.to_datetime(df_all_locations['alt_capture_time_no_tz'])"
   ]
  },
  {
   "cell_type": "code",
   "execution_count": 27,
   "metadata": {},
   "outputs": [],
   "source": [
    "df_distances_by_year = calculate_distance_by_year(\n",
    "    df_all_locations, timestamp_column = 'alt_capture_time_no_tz')\n",
    "\n",
    "# df_distances_by_year"
   ]
  },
  {
   "cell_type": "code",
   "execution_count": 28,
   "metadata": {},
   "outputs": [],
   "source": [
    "# sum(df_distances_by_year['total_distance'])"
   ]
  },
  {
   "cell_type": "code",
   "execution_count": 29,
   "metadata": {},
   "outputs": [],
   "source": [
    "# fig, axes = plt.subplots()\n",
    "# plt.bar(x = df_distances_by_year['year'].astype('str'), \n",
    "# height = df_distances_by_year['total_distance'])"
   ]
  },
  {
   "cell_type": "code",
   "execution_count": 30,
   "metadata": {},
   "outputs": [
    {
     "name": "stdout",
     "output_type": "stream",
     "text": [
      "Completed run at Tue May 10 14:27:11 2022 (local time)\n",
      "Total run time: 238.82 second(s) (3.0 minute(s) and 58.82 second(s))\n"
     ]
    }
   ],
   "source": [
    "end_time = time.time()\n",
    "run_time = end_time - start_time\n",
    "run_minutes = run_time // 60\n",
    "run_seconds = run_time % 60\n",
    "print(\"Completed run at\",time.ctime(end_time),\"(local time)\")\n",
    "print(\"Total run time:\",'{:.2f}'.format(run_time),\n",
    "\"second(s) (\"+str(run_minutes),\"minute(s) and\",'{:.2f}'.format(run_seconds),\n",
    "\"second(s))\") "
   ]
  }
 ],
 "metadata": {
  "interpreter": {
   "hash": "373fc5a02dc1a4f4d7122438e12fcda035e925b32ee1fe85dbff58fb3bdd1371"
  },
  "kernelspec": {
   "display_name": "Python 3.10.4 ('ga15pyd')",
   "language": "python",
   "name": "python3"
  },
  "language_info": {
   "codemirror_mode": {
    "name": "ipython",
    "version": 3
   },
   "file_extension": ".py",
   "mimetype": "text/x-python",
   "name": "python",
   "nbconvert_exporter": "python",
   "pygments_lexer": "ipython3",
   "version": "3.10.4"
  },
  "orig_nbformat": 4
 },
 "nbformat": 4,
 "nbformat_minor": 2
}
